{
 "cells": [
  {
   "cell_type": "markdown",
   "id": "09ebb053",
   "metadata": {},
   "source": [
    "## Loading modules and checking device\n",
    "First, we will load our libraries and check which device we are using, we would prefer using cuda for faster training"
   ]
  },
  {
   "cell_type": "code",
   "execution_count": 1,
   "id": "ffb72022",
   "metadata": {},
   "outputs": [
    {
     "data": {
      "text/plain": [
       "device(type='cuda')"
      ]
     },
     "execution_count": 1,
     "metadata": {},
     "output_type": "execute_result"
    }
   ],
   "source": [
    "import os\n",
    "import re\n",
    "import sys\n",
    "import glob\n",
    "import numpy as np\n",
    "import matplotlib.pyplot as plt\n",
    "import unittest\n",
    "import torch\n",
    "import torch.nn as nn\n",
    "import torchvision\n",
    "import torchvision.transforms as tvtf\n",
    "import json\n",
    "\n",
    "%matplotlib inline\n",
    "%load_ext autoreload\n",
    "%autoreload 2\n",
    "\n",
    "seed = 318\n",
    "device = torch.device('cuda' if torch.cuda.is_available() else 'cpu')\n",
    "plt.rcParams.update({'font.size': 12})\n",
    "test = unittest.TestCase()\n",
    "device"
   ]
  },
  {
   "cell_type": "markdown",
   "id": "a202276b",
   "metadata": {},
   "source": [
    "## Importing Datasets\n",
    "Now we will download our different datasets, MNIST, CIFAR-10, CIFAR-100 etc.."
   ]
  },
  {
   "cell_type": "markdown",
   "id": "11000a48",
   "metadata": {},
   "source": [
    "MNIST Download"
   ]
  },
  {
   "cell_type": "code",
   "execution_count": 2,
   "id": "daa5d81c",
   "metadata": {},
   "outputs": [
    {
     "name": "stdout",
     "output_type": "stream",
     "text": [
      "Train: 60000 samples\n",
      "Test: 60000 samples\n",
      "MNIST input image size = torch.Size([1, 28, 28])\n",
      "5\n"
     ]
    },
    {
     "data": {
      "text/plain": [
       "torch.Size([32, 784])"
      ]
     },
     "execution_count": 2,
     "metadata": {},
     "output_type": "execute_result"
    },
    {
     "data": {
      "image/png": "[encoded data removed]",
      "text/plain": [
       "<Figure size 432x288 with 1 Axes>"
      ]
     },
     "metadata": {
      "needs_background": "light"
     },
     "output_type": "display_data"
    }
   ],
   "source": [
    "#MNIST DOWNLOAD\n",
    "data_dir = os.path.expanduser('~/.pytorch-datasets')\n",
    "mnist_train = torchvision.datasets.MNIST(root=data_dir, download=True, train=True, transform=tvtf.ToTensor())\n",
    "mnist_test = torchvision.datasets.MNIST(root=data_dir, download=True, train=False, transform=tvtf.ToTensor())\n",
    "#Create BucketIterator for dataset\n",
    "batch_size = 32\n",
    "\n",
    "mdl_train = torch.utils.data.DataLoader(mnist_train, batch_size, shuffle=True)\n",
    "mdl_test = dl_train = torch.utils.data.DataLoader(mnist_test, batch_size, shuffle=True)\n",
    "\n",
    "\n",
    "print(f'Train: {len(mnist_train)} samples')\n",
    "print(f'Test: {len(mnist_train)} samples')\n",
    "\n",
    "x0,y0 = mnist_train[0]\n",
    "in_size = x0.shape\n",
    "num_classes = 10\n",
    "print('MNIST input image size =', in_size)\n",
    "print(y0)\n",
    "def to_image(x):\n",
    "    return (x * torch.ones(3,28,28)).permute(1,2,0)\n",
    "plt.imshow(to_image(x0))\n",
    "\n",
    "X,y = next(iter(mdl_train))\n",
    "X = X.reshape(X.size(0), -1) \n",
    "X.shape"
   ]
  },
  {
   "cell_type": "markdown",
   "id": "ce9dd30e",
   "metadata": {},
   "source": [
    "CIFAR-10 Download"
   ]
  },
  {
   "cell_type": "markdown",
   "id": "ec42913f",
   "metadata": {},
   "source": [
    "## Loading the model\n",
    "We will now load the Linear Classifier model and test it's output"
   ]
  },
  {
   "cell_type": "code",
   "execution_count": 3,
   "id": "ff3e5844",
   "metadata": {},
   "outputs": [
    {
     "data": {
      "text/plain": [
       "LinearClassifier(\n",
       "  (classifier): Sequential(\n",
       "    (0): Linear(in_features=784, out_features=64, bias=True)\n",
       "    (1): ReLU()\n",
       "    (2): Linear(in_features=64, out_features=32, bias=True)\n",
       "    (3): ReLU()\n",
       "    (4): Linear(in_features=32, out_features=10, bias=True)\n",
       "    (5): Softmax(dim=1)\n",
       "  )\n",
       ")"
      ]
     },
     "execution_count": 3,
     "metadata": {},
     "output_type": "execute_result"
    }
   ],
   "source": [
    "from LinearNetwork import LinearClassifier as FCModel\n",
    "mnist_model = FCModel(in_size=784, out_classes=10, activation_type=\"relu\", hidden_dims=[64,32])\n",
    "mnist_model = mnist_model.to(device)\n",
    "\n",
    "mnist_model"
   ]
  },
  {
   "cell_type": "markdown",
   "id": "275b5814",
   "metadata": {},
   "source": [
    "## Performing experiments on the model\n",
    "We will perform training on the original architecture persented at: https://arxiv.org/pdf/1812.09489.pdf on MNIST dataset, and other datasets with more features, we would later train and evaluate on the a new presented architecture."
   ]
  },
  {
   "cell_type": "code",
   "execution_count": 4,
   "id": "a571058e",
   "metadata": {},
   "outputs": [],
   "source": [
    "# We will try two main architectures, both with RP layer at first,\n",
    "# it is a Linear layer which does not train and it's weights are\n",
    "# a RP matrix from our implemented module for Random Projection\n",
    "import RandomProjection as RP\n",
    "from Trainer import train_and_eval\n",
    "# we will try varying projected dimension k for the MNIST problem\n",
    "#experiment on different k's"
   ]
  },
  {
   "cell_type": "code",
   "execution_count": 9,
   "id": "dd6878f0-d7de-4cb5-a0be-ee2d21e259b2",
   "metadata": {},
   "outputs": [],
   "source": [
    "#This code block saves results from our results data format, can put in a function\n",
    "def Save_Results(results, rp_type, verbose=False):\n",
    "    if verbose is True:\n",
    "        for k in results.keys():\n",
    "            print(f\"Projected:{k}: train accuracy:{max(results[k][0])}, test accuracy:{max(results[k][1])}\")\n",
    "\n",
    "    file = open(f\"Results/MNIST_RP_{rp_type}.txt\",\"w\")\n",
    "    file.write(json.dumps(results))\n",
    "    file.close()"
   ]
  },
  {
   "cell_type": "markdown",
   "id": "72e21f5d-7df5-4ef0-b140-9393cc520e8b",
   "metadata": {},
   "source": [
    "**Loading**<br/>We will load the results from files and in that case we would not retrain"
   ]
  },
  {
   "cell_type": "code",
   "execution_count": 30,
   "id": "b98e4534-4325-4223-8eba-b1068b6f683c",
   "metadata": {},
   "outputs": [],
   "source": [
    "projections = [\"Gaussian\",\"Achlioptas\", \"Li\", \"CountSketch\"] #TODO: add SRHT, needs to add zero paddings to dataset\n",
    "results = {}\n",
    "for proj in projections:\n",
    "    if not os.path.isfile(f\"Results/MNIST_RP_{proj}.txt\"):\n",
    "        continue\n",
    "    file = open(f\"Results/MNIST_RP_{proj}.txt\",\"r+\")\n",
    "    results[proj] = json.loads(file.read())\n",
    "    file.close()"
   ]
  },
  {
   "cell_type": "markdown",
   "id": "b170e55e-7de9-42e7-be1a-145928611838",
   "metadata": {},
   "source": [
    "In any other case we retrain"
   ]
  },
  {
   "cell_type": "code",
   "execution_count": 6,
   "id": "f82cf544",
   "metadata": {},
   "outputs": [
    {
     "name": "stdout",
     "output_type": "stream",
     "text": [
      "Model Architecture:LinearClassifier(\n",
      "  (classifier): Sequential(\n",
      "    (0): Linear(in_features=784, out_features=2, bias=True)\n",
      "    (1): Linear(in_features=2, out_features=1, bias=True)\n",
      "    (2): ReLU()\n",
      "    (3): Linear(in_features=1, out_features=10, bias=True)\n",
      "    (4): Softmax(dim=1)\n",
      "  )\n",
      ")\n",
      "Model Architecture:LinearClassifier(\n",
      "  (classifier): Sequential(\n",
      "    (0): Linear(in_features=784, out_features=4, bias=True)\n",
      "    (1): Linear(in_features=4, out_features=2, bias=True)\n",
      "    (2): ReLU()\n",
      "    (3): Linear(in_features=2, out_features=10, bias=True)\n",
      "    (4): Softmax(dim=1)\n",
      "  )\n",
      ")\n",
      "Model Architecture:LinearClassifier(\n",
      "  (classifier): Sequential(\n",
      "    (0): Linear(in_features=784, out_features=8, bias=True)\n",
      "    (1): Linear(in_features=8, out_features=4, bias=True)\n",
      "    (2): ReLU()\n",
      "    (3): Linear(in_features=4, out_features=10, bias=True)\n",
      "    (4): Softmax(dim=1)\n",
      "  )\n",
      ")\n",
      "Model Architecture:LinearClassifier(\n",
      "  (classifier): Sequential(\n",
      "    (0): Linear(in_features=784, out_features=16, bias=True)\n",
      "    (1): Linear(in_features=16, out_features=8, bias=True)\n",
      "    (2): ReLU()\n",
      "    (3): Linear(in_features=8, out_features=10, bias=True)\n",
      "    (4): Softmax(dim=1)\n",
      "  )\n",
      ")\n",
      "Model Architecture:LinearClassifier(\n",
      "  (classifier): Sequential(\n",
      "    (0): Linear(in_features=784, out_features=32, bias=True)\n",
      "    (1): Linear(in_features=32, out_features=16, bias=True)\n",
      "    (2): ReLU()\n",
      "    (3): Linear(in_features=16, out_features=10, bias=True)\n",
      "    (4): Softmax(dim=1)\n",
      "  )\n",
      ")\n",
      "Model Architecture:LinearClassifier(\n",
      "  (classifier): Sequential(\n",
      "    (0): Linear(in_features=784, out_features=64, bias=True)\n",
      "    (1): Linear(in_features=64, out_features=32, bias=True)\n",
      "    (2): ReLU()\n",
      "    (3): Linear(in_features=32, out_features=10, bias=True)\n",
      "    (4): Softmax(dim=1)\n",
      "  )\n",
      ")\n",
      "Model Architecture:LinearClassifier(\n",
      "  (classifier): Sequential(\n",
      "    (0): Linear(in_features=784, out_features=128, bias=True)\n",
      "    (1): Linear(in_features=128, out_features=64, bias=True)\n",
      "    (2): ReLU()\n",
      "    (3): Linear(in_features=64, out_features=10, bias=True)\n",
      "    (4): Softmax(dim=1)\n",
      "  )\n",
      ")\n",
      "Model Architecture:LinearClassifier(\n",
      "  (classifier): Sequential(\n",
      "    (0): Linear(in_features=784, out_features=256, bias=True)\n",
      "    (1): Linear(in_features=256, out_features=128, bias=True)\n",
      "    (2): ReLU()\n",
      "    (3): Linear(in_features=128, out_features=10, bias=True)\n",
      "    (4): Softmax(dim=1)\n",
      "  )\n",
      ")\n",
      "Model Architecture:LinearClassifier(\n",
      "  (classifier): Sequential(\n",
      "    (0): Linear(in_features=784, out_features=512, bias=True)\n",
      "    (1): Linear(in_features=512, out_features=256, bias=True)\n",
      "    (2): ReLU()\n",
      "    (3): Linear(in_features=256, out_features=10, bias=True)\n",
      "    (4): Softmax(dim=1)\n",
      "  )\n",
      ")\n",
      "Model Architecture:LinearClassifier(\n",
      "  (classifier): Sequential(\n",
      "    (0): Linear(in_features=784, out_features=2, bias=True)\n",
      "    (1): Linear(in_features=2, out_features=1, bias=True)\n",
      "    (2): ReLU()\n",
      "    (3): Linear(in_features=1, out_features=10, bias=True)\n",
      "    (4): Softmax(dim=1)\n",
      "  )\n",
      ")\n",
      "Model Architecture:LinearClassifier(\n",
      "  (classifier): Sequential(\n",
      "    (0): Linear(in_features=784, out_features=4, bias=True)\n",
      "    (1): Linear(in_features=4, out_features=2, bias=True)\n",
      "    (2): ReLU()\n",
      "    (3): Linear(in_features=2, out_features=10, bias=True)\n",
      "    (4): Softmax(dim=1)\n",
      "  )\n",
      ")\n",
      "Model Architecture:LinearClassifier(\n",
      "  (classifier): Sequential(\n",
      "    (0): Linear(in_features=784, out_features=8, bias=True)\n",
      "    (1): Linear(in_features=8, out_features=4, bias=True)\n",
      "    (2): ReLU()\n",
      "    (3): Linear(in_features=4, out_features=10, bias=True)\n",
      "    (4): Softmax(dim=1)\n",
      "  )\n",
      ")\n",
      "Model Architecture:LinearClassifier(\n",
      "  (classifier): Sequential(\n",
      "    (0): Linear(in_features=784, out_features=16, bias=True)\n",
      "    (1): Linear(in_features=16, out_features=8, bias=True)\n",
      "    (2): ReLU()\n",
      "    (3): Linear(in_features=8, out_features=10, bias=True)\n",
      "    (4): Softmax(dim=1)\n",
      "  )\n",
      ")\n",
      "Model Architecture:LinearClassifier(\n",
      "  (classifier): Sequential(\n",
      "    (0): Linear(in_features=784, out_features=32, bias=True)\n",
      "    (1): Linear(in_features=32, out_features=16, bias=True)\n",
      "    (2): ReLU()\n",
      "    (3): Linear(in_features=16, out_features=10, bias=True)\n",
      "    (4): Softmax(dim=1)\n",
      "  )\n",
      ")\n",
      "Model Architecture:LinearClassifier(\n",
      "  (classifier): Sequential(\n",
      "    (0): Linear(in_features=784, out_features=64, bias=True)\n",
      "    (1): Linear(in_features=64, out_features=32, bias=True)\n",
      "    (2): ReLU()\n",
      "    (3): Linear(in_features=32, out_features=10, bias=True)\n",
      "    (4): Softmax(dim=1)\n",
      "  )\n",
      ")\n",
      "Model Architecture:LinearClassifier(\n",
      "  (classifier): Sequential(\n",
      "    (0): Linear(in_features=784, out_features=128, bias=True)\n",
      "    (1): Linear(in_features=128, out_features=64, bias=True)\n",
      "    (2): ReLU()\n",
      "    (3): Linear(in_features=64, out_features=10, bias=True)\n",
      "    (4): Softmax(dim=1)\n",
      "  )\n",
      ")\n",
      "Model Architecture:LinearClassifier(\n",
      "  (classifier): Sequential(\n",
      "    (0): Linear(in_features=784, out_features=256, bias=True)\n",
      "    (1): Linear(in_features=256, out_features=128, bias=True)\n",
      "    (2): ReLU()\n",
      "    (3): Linear(in_features=128, out_features=10, bias=True)\n",
      "    (4): Softmax(dim=1)\n",
      "  )\n",
      ")\n",
      "Model Architecture:LinearClassifier(\n",
      "  (classifier): Sequential(\n",
      "    (0): Linear(in_features=784, out_features=512, bias=True)\n",
      "    (1): Linear(in_features=512, out_features=256, bias=True)\n",
      "    (2): ReLU()\n",
      "    (3): Linear(in_features=256, out_features=10, bias=True)\n",
      "    (4): Softmax(dim=1)\n",
      "  )\n",
      ")\n"
     ]
    },
    {
     "name": "stderr",
     "output_type": "stream",
     "text": [
      "/home/shai.kimhi/deepAccel/rp-nn/RandomProjection.py:74: UserWarning: To copy construct from a tensor, it is recommended to use sourceTensor.clone().detach() or sourceTensor.clone().detach().requires_grad_(True), rather than torch.tensor(sourceTensor).\n",
      "  m = torch.distributions.Categorical(torch.ones(d,k)*torch.tensor(probs))\n",
      "/home/shai.kimhi/deepAccel/rp-nn/RandomProjection.py:77: UserWarning: To copy construct from a tensor, it is recommended to use sourceTensor.clone().detach() or sourceTensor.clone().detach().requires_grad_(True), rather than torch.tensor(sourceTensor).\n",
      "  C = torch.tensor(C, dtype=torch.float32)\n",
      "/home/shai.kimhi/deepAccel/rp-nn/RandomProjection.py:78: UserWarning: To copy construct from a tensor, it is recommended to use sourceTensor.clone().detach() or sourceTensor.clone().detach().requires_grad_(True), rather than torch.tensor(sourceTensor).\n",
      "  D = torch.tensor(D, dtype=torch.float32)\n"
     ]
    },
    {
     "name": "stdout",
     "output_type": "stream",
     "text": [
      "Model Architecture:LinearClassifier(\n",
      "  (classifier): Sequential(\n",
      "    (0): Linear(in_features=784, out_features=2, bias=True)\n",
      "    (1): Linear(in_features=2, out_features=1, bias=True)\n",
      "    (2): ReLU()\n",
      "    (3): Linear(in_features=1, out_features=10, bias=True)\n",
      "    (4): Softmax(dim=1)\n",
      "  )\n",
      ")\n",
      "Model Architecture:LinearClassifier(\n",
      "  (classifier): Sequential(\n",
      "    (0): Linear(in_features=784, out_features=4, bias=True)\n",
      "    (1): Linear(in_features=4, out_features=2, bias=True)\n",
      "    (2): ReLU()\n",
      "    (3): Linear(in_features=2, out_features=10, bias=True)\n",
      "    (4): Softmax(dim=1)\n",
      "  )\n",
      ")\n",
      "Model Architecture:LinearClassifier(\n",
      "  (classifier): Sequential(\n",
      "    (0): Linear(in_features=784, out_features=8, bias=True)\n",
      "    (1): Linear(in_features=8, out_features=4, bias=True)\n",
      "    (2): ReLU()\n",
      "    (3): Linear(in_features=4, out_features=10, bias=True)\n",
      "    (4): Softmax(dim=1)\n",
      "  )\n",
      ")\n",
      "Model Architecture:LinearClassifier(\n",
      "  (classifier): Sequential(\n",
      "    (0): Linear(in_features=784, out_features=16, bias=True)\n",
      "    (1): Linear(in_features=16, out_features=8, bias=True)\n",
      "    (2): ReLU()\n",
      "    (3): Linear(in_features=8, out_features=10, bias=True)\n",
      "    (4): Softmax(dim=1)\n",
      "  )\n",
      ")\n",
      "Model Architecture:LinearClassifier(\n",
      "  (classifier): Sequential(\n",
      "    (0): Linear(in_features=784, out_features=32, bias=True)\n",
      "    (1): Linear(in_features=32, out_features=16, bias=True)\n",
      "    (2): ReLU()\n",
      "    (3): Linear(in_features=16, out_features=10, bias=True)\n",
      "    (4): Softmax(dim=1)\n",
      "  )\n",
      ")\n",
      "Model Architecture:LinearClassifier(\n",
      "  (classifier): Sequential(\n",
      "    (0): Linear(in_features=784, out_features=64, bias=True)\n",
      "    (1): Linear(in_features=64, out_features=32, bias=True)\n",
      "    (2): ReLU()\n",
      "    (3): Linear(in_features=32, out_features=10, bias=True)\n",
      "    (4): Softmax(dim=1)\n",
      "  )\n",
      ")\n",
      "Model Architecture:LinearClassifier(\n",
      "  (classifier): Sequential(\n",
      "    (0): Linear(in_features=784, out_features=128, bias=True)\n",
      "    (1): Linear(in_features=128, out_features=64, bias=True)\n",
      "    (2): ReLU()\n",
      "    (3): Linear(in_features=64, out_features=10, bias=True)\n",
      "    (4): Softmax(dim=1)\n",
      "  )\n",
      ")\n",
      "Model Architecture:LinearClassifier(\n",
      "  (classifier): Sequential(\n",
      "    (0): Linear(in_features=784, out_features=256, bias=True)\n",
      "    (1): Linear(in_features=256, out_features=128, bias=True)\n",
      "    (2): ReLU()\n",
      "    (3): Linear(in_features=128, out_features=10, bias=True)\n",
      "    (4): Softmax(dim=1)\n",
      "  )\n",
      ")\n",
      "Model Architecture:LinearClassifier(\n",
      "  (classifier): Sequential(\n",
      "    (0): Linear(in_features=784, out_features=512, bias=True)\n",
      "    (1): Linear(in_features=512, out_features=256, bias=True)\n",
      "    (2): ReLU()\n",
      "    (3): Linear(in_features=256, out_features=10, bias=True)\n",
      "    (4): Softmax(dim=1)\n",
      "  )\n",
      ")\n"
     ]
    }
   ],
   "source": [
    "krange = torch.logspace(1,9,9,base=2) #we test k's from 1 to 784 with multiplicative steps of 2\n",
    "for proj in projections:\n",
    "    if proj in results.keys(): #We would not retrain any model alreay trained (if krange list changed we would want to retrain)\n",
    "        continue\n",
    "    results[proj] = {}\n",
    "    print(f\"training for {proj}\")\n",
    "    for k in list(krange)[::1]:\n",
    "        mnist_model = FCModel(in_size=784, out_classes=10, activation_type=\"relu\", hidden_dims=[int(k/2)], rp=int(k), rp_type=proj).to(device)\n",
    "        print(f\"projected dimension:{int(k)}\")\n",
    "        #print(f\"Model Architecture:{mnist_model}\")\n",
    "        lr = 1e-3\n",
    "        optimizer = torch.optim.Adam(mnist_model.parameters(), lr=lr)\n",
    "        loss_fn = nn.CrossEntropyLoss().to(device)\n",
    "\n",
    "        res = train_and_eval(mnist_model, mdl_train, mdl_test, optimizer, loss_fn, verbose=False)\n",
    "        results[proj][int(k)] = res"
   ]
  },
  {
   "cell_type": "markdown",
   "id": "085ce2af-bae9-4d23-ac81-ebb528d96e4f",
   "metadata": {},
   "source": [
    "**We will save the results to a txt file**"
   ]
  },
  {
   "cell_type": "code",
   "execution_count": 16,
   "id": "f6db3c64-3f18-4c78-a665-a59c0fc68672",
   "metadata": {},
   "outputs": [
    {
     "name": "stdout",
     "output_type": "stream",
     "text": [
      "Achlioptas\n",
      "Li\n",
      "CountSketch\n"
     ]
    }
   ],
   "source": [
    "for proj in projections:\n",
    "    print(proj)\n",
    "    Save_Results(results[proj], proj)"
   ]
  },
  {
   "cell_type": "markdown",
   "id": "8438d7c7",
   "metadata": {},
   "source": [
    "## Graphs\n",
    "Showing the results for different projection dimensions"
   ]
  },
  {
   "cell_type": "markdown",
   "id": "7bace09a-981a-49c1-97a3-8e24630c4df6",
   "metadata": {},
   "source": [
    "For each Random Projection, we will display the best result in each measured parameter (i.e train and test loss and accuracy)"
   ]
  },
  {
   "cell_type": "code",
   "execution_count": 100,
   "id": "e40b7ef7-32e6-4fe9-b0e1-9eaa9f614bed",
   "metadata": {},
   "outputs": [],
   "source": [
    "final = {}\n",
    "for proj in results.keys():\n",
    "    final[proj] = {}\n",
    "    for k in results[proj].keys():\n",
    "        for i in range(4): # 4 different measurements of accuracy/loss\n",
    "            temp = max(results[proj][k][i]) if i <= 1 else min(results[proj][k][i])\n",
    "            if i in final[proj].keys():\n",
    "                final[proj][i].append(temp)\n",
    "            else:\n",
    "                final[proj][i] = [temp]\n",
    "            \n",
    "krange = torch.logspace(1,9,9,base=2) #we test k's from 1 to 784 with multiplicative steps of 2"
   ]
  },
  {
   "cell_type": "code",
   "execution_count": 108,
   "id": "f8d44619-b842-43be-af11-a2fa76bfc4c0",
   "metadata": {},
   "outputs": [],
   "source": [
    "def plot_results(results): #results- list of results from different models, each result is a list\n",
    "    colors = [\"red\",\"blue\",\"green\",\"black\",\"purple\"]\n",
    "    fig,_ = plt.subplots(nrows=2,ncols=2,sharex=True, figsize = (18,12))\n",
    "    k = [int(i) for i in krange]\n",
    "    for i, plot_type in enumerate(('train_acc', 'train_loss', 'valid_acc', 'valid_loss')):\n",
    "        ax = fig.axes[i]\n",
    "        ax.set_xscale(\"log\", base=2.0)\n",
    "        ax.set_yscale(\"linear\")\n",
    "        models_res = results[plot_type]\n",
    "        idx = 0\n",
    "        for model in models_res.keys():\n",
    "            ax.plot(np.array(k), models_res[model], label=model, color=colors[idx])\n",
    "            idx += 1\n",
    "        ax.set_title(plot_type)\n",
    "        ax.set_xlabel('k')\n",
    "        ax.legend()\n",
    "    return fig"
   ]
  },
  {
   "cell_type": "code",
   "execution_count": 109,
   "id": "a4540dfe-2fc8-4a4d-988e-692202c7cc7a",
   "metadata": {},
   "outputs": [
    {
     "data": {
      "text/plain": [
       "[0.19193333333333334,\n",
       " 0.29685,\n",
       " 0.42983333333333335,\n",
       " 0.6631833333333333,\n",
       " 0.8221666666666667,\n",
       " 0.9392166666666667,\n",
       " 0.97815,\n",
       " 0.9909166666666667,\n",
       " 0.9925]"
      ]
     },
     "execution_count": 109,
     "metadata": {},
     "output_type": "execute_result"
    }
   ],
   "source": [
    "final[\"Li\"][0]"
   ]
  },
  {
   "cell_type": "code",
   "execution_count": 110,
   "id": "f643a0f8-444a-4858-a97c-5cd24b43000d",
   "metadata": {},
   "outputs": [
    {
     "data": {
      "image/png": "[encoded data removed]",
      "text/plain": [
       "<Figure size 1296x864 with 4 Axes>"
      ]
     },
     "metadata": {
      "needs_background": "light"
     },
     "output_type": "display_data"
    }
   ],
   "source": [
    "results_m = {'train_acc':None,'valid_acc':None,'train_loss':None,'valid_loss':None}\n",
    "results_m['train_acc'] = {'Gaussian':final[\"Gaussian\"][0],'Achlioptas':final[\"Achlioptas\"][0],'Li':final[\"Li\"][0], \"Count-Sketch\": final[\"CountSketch\"][0]}\n",
    "results_m['valid_acc'] = {'Gaussian':final[\"Gaussian\"][1],'Achlioptas':final[\"Achlioptas\"][1],'Li':final[\"Li\"][1], \"Count-Sketch\": final[\"CountSketch\"][1]}\n",
    "results_m['train_loss'] = {'Gaussian':final[\"Gaussian\"][2],'Achlioptas':final[\"Achlioptas\"][2],'Li':final[\"Li\"][2], \"Count-Sketch\": final[\"CountSketch\"][2]}\n",
    "results_m['valid_loss'] = {'Gaussian':final[\"Gaussian\"][3],'Achlioptas':final[\"Achlioptas\"][3],'Li':final[\"Li\"][3], \"Count-Sketch\": final[\"CountSketch\"][3]}\n",
    "\n",
    "plot_results(results_m);"
   ]
  },
  {
   "cell_type": "markdown",
   "id": "f33adc3e",
   "metadata": {},
   "source": [
    "Downloading CIFAR-10"
   ]
  },
  {
   "cell_type": "code",
   "execution_count": 26,
   "id": "19f9458f",
   "metadata": {},
   "outputs": [
    {
     "name": "stdout",
     "output_type": "stream",
     "text": [
      "Files already downloaded and verified\n",
      "Files already downloaded and verified\n",
      "Train: 50000 samples\n",
      "Test: 10000 samples\n",
      "CIFAR-10 input image size = torch.Size([3, 32, 32])\n"
     ]
    }
   ],
   "source": [
    "#CIFAR-10 DOWNLOAD\n",
    "data_dir = os.path.expanduser('~/.pytorch-datasets')\n",
    "cifar10_train = torchvision.datasets.CIFAR10(root=data_dir, download=True, train=True, transform=tvtf.ToTensor())\n",
    "cifar10_test = torchvision.datasets.CIFAR10(root=data_dir, download=True, train=False, transform=tvtf.ToTensor())\n",
    "\n",
    "print(f'Train: {len(cifar10_train)} samples')\n",
    "print(f'Test: {len(cifar10_test)} samples')\n",
    "\n",
    "x0,_ = cifar10_train[0]\n",
    "in_size = x0.shape\n",
    "num_classes = 10\n",
    "print('CIFAR-10 input image size =', in_size)"
   ]
  },
  {
   "cell_type": "markdown",
   "id": "09f24b3f",
   "metadata": {},
   "source": [
    "## Download datasets (To be added)"
   ]
  },
  {
   "cell_type": "markdown",
   "id": "608718e7",
   "metadata": {},
   "source": [
    "<h4>Importing our experiments</h4>\n",
    "Now, we will load our experiments module for testing the different architectures. "
   ]
  },
  {
   "cell_type": "code",
   "execution_count": null,
   "id": "eb488b14",
   "metadata": {},
   "outputs": [],
   "source": []
  }
 ],
 "metadata": {
  "kernelspec": {
   "display_name": "Python 3",
   "language": "python",
   "name": "python3"
  },
  "language_info": {
   "codemirror_mode": {
    "name": "ipython",
    "version": 3
   },
   "file_extension": ".py",
   "mimetype": "text/x-python",
   "name": "python",
   "nbconvert_exporter": "python",
   "pygments_lexer": "ipython3",
   "version": "3.8.6"
  }
 },
 "nbformat": 4,
 "nbformat_minor": 5
}
