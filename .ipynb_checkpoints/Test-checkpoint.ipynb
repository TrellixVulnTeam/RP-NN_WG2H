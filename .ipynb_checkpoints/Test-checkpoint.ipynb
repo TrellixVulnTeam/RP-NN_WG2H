{
 "cells": [
  {
   "cell_type": "markdown",
   "id": "09ebb053",
   "metadata": {},
   "source": [
    "## Loading modules and checking device\n",
    "First, we will load our libraries and check which device we are using, we would prefer using cuda for faster training"
   ]
  },
  {
   "cell_type": "code",
   "execution_count": 2,
   "id": "ffb72022",
   "metadata": {},
   "outputs": [
    {
     "data": {
      "text/plain": [
       "device(type='cpu')"
      ]
     },
     "execution_count": 2,
     "metadata": {},
     "output_type": "execute_result"
    }
   ],
   "source": [
    "import os\n",
    "import re\n",
    "import sys\n",
    "import glob\n",
    "import numpy as np\n",
    "import matplotlib.pyplot as plt\n",
    "import unittest\n",
    "import torch\n",
    "import torch.nn as nn\n",
    "import torchvision\n",
    "import torchvision.transforms as tvtf\n",
    "import json\n",
    "\n",
    "%matplotlib inline\n",
    "%load_ext autoreload\n",
    "%autoreload 2\n",
    "\n",
    "seed = 318\n",
    "device = torch.device('cuda' if torch.cuda.is_available() else 'cpu')\n",
    "plt.rcParams.update({'font.size': 12})\n",
    "test = unittest.TestCase()\n",
    "device"
   ]
  },
  {
   "cell_type": "markdown",
   "id": "a202276b",
   "metadata": {},
   "source": [
    "## Importing Datasets\n",
    "Now we will download our different datasets, MNIST, CIFAR-10, CIFAR-100 etc.."
   ]
  },
  {
   "cell_type": "markdown",
   "id": "11000a48",
   "metadata": {},
   "source": [
    "*MNIST Download*"
   ]
  },
  {
   "cell_type": "code",
   "execution_count": 96,
   "id": "daa5d81c",
   "metadata": {},
   "outputs": [
    {
     "name": "stdout",
     "output_type": "stream",
     "text": [
      "Train: 60000 samples\n",
      "Test: 60000 samples\n",
      "MNIST input image size = torch.Size([1, 28, 28])\n",
      "5\n"
     ]
    },
    {
     "data": {
      "text/plain": [
       "torch.Size([32, 784])"
      ]
     },
     "execution_count": 96,
     "metadata": {},
     "output_type": "execute_result"
    },
    {
     "data": {
      "image/png": "[encoded data removed]",
      "text/plain": [
       "<Figure size 432x288 with 1 Axes>"
      ]
     },
     "metadata": {
      "needs_background": "light"
     },
     "output_type": "display_data"
    }
   ],
   "source": [
    "#MNIST DOWNLOAD\n",
    "data_dir = os.path.expanduser('~/.pytorch-datasets')\n",
    "mnist_train = torchvision.datasets.MNIST(root=data_dir, download=True, train=True, transform=tvtf.ToTensor())\n",
    "mnist_test = torchvision.datasets.MNIST(root=data_dir, download=True, train=False, transform=tvtf.ToTensor())\n",
    "#Create BucketIterator for dataset\n",
    "batch_size = 32\n",
    "\n",
    "mdl_train = torch.utils.data.DataLoader(mnist_train, batch_size, shuffle=True)\n",
    "mdl_test = dl_train = torch.utils.data.DataLoader(mnist_test, batch_size, shuffle=True)\n",
    "\n",
    "\n",
    "print(f'Train: {len(mnist_train)} samples')\n",
    "print(f'Test: {len(mnist_train)} samples')\n",
    "\n",
    "x0,y0 = mnist_train[0]\n",
    "in_size = x0.shape\n",
    "num_classes = 10\n",
    "print('MNIST input image size =', in_size)\n",
    "print(y0)\n",
    "def to_image(x):\n",
    "    return (x * torch.ones(3,28,28)).permute(1,2,0)\n",
    "plt.imshow(to_image(x0))\n",
    "\n",
    "X,y = next(iter(mdl_train))\n",
    "X = X.reshape(X.size(0), -1) \n",
    "X.shape"
   ]
  },
  {
   "cell_type": "markdown",
   "id": "ce9dd30e",
   "metadata": {},
   "source": [
    "CIFAR-10 Download"
   ]
  },
  {
   "cell_type": "markdown",
   "id": "ec42913f",
   "metadata": {},
   "source": [
    "## Loading the model\n",
    "We will now load the Linear Classifier model and test it's output"
   ]
  },
  {
   "cell_type": "code",
   "execution_count": 4,
   "id": "ff3e5844",
   "metadata": {},
   "outputs": [
    {
     "data": {
      "text/plain": [
       "LinearClassifier(\n",
       "  (classifier): Sequential(\n",
       "    (0): Linear(in_features=784, out_features=64, bias=True)\n",
       "    (1): ReLU()\n",
       "    (2): Dropout(p=0, inplace=False)\n",
       "    (3): Linear(in_features=64, out_features=32, bias=True)\n",
       "    (4): ReLU()\n",
       "    (5): Dropout(p=0, inplace=False)\n",
       "    (6): Linear(in_features=32, out_features=10, bias=True)\n",
       "    (7): Softmax(dim=1)\n",
       "  )\n",
       ")"
      ]
     },
     "execution_count": 4,
     "metadata": {},
     "output_type": "execute_result"
    }
   ],
   "source": [
    "from LinearNetwork import LinearClassifier as FCModel\n",
    "mnist_model = FCModel(in_size=784, out_classes=10, activation_type=\"relu\", hidden_dims=[64,32])\n",
    "mnist_model = mnist_model.to(device)\n",
    "\n",
    "mnist_model"
   ]
  },
  {
   "cell_type": "markdown",
   "id": "275b5814",
   "metadata": {},
   "source": [
    "## Performing experiments on the model\n",
    "We will perform training on the original architecture persented at: https://arxiv.org/pdf/1812.09489.pdf on MNIST dataset, and other datasets with more features, we would later train and evaluate on the a new presented architecture."
   ]
  },
  {
   "cell_type": "code",
   "execution_count": 160,
   "id": "a571058e",
   "metadata": {},
   "outputs": [],
   "source": [
    "# We will try two main architectures, both with RP layer at first,\n",
    "# it is a Linear layer which does not train and it's weights are\n",
    "# a RP matrix from our implemented module for Random Projection\n",
    "import RandomProjection as RP\n",
    "from Trainer import train_and_eval\n",
    "# we will try varying projected dimension k for the MNIST problem\n",
    "#experiment on different k's\n",
    "def count_parameters(model): return sum(p.numel() for p in model.parameters() if p.requires_grad)"
   ]
  },
  {
   "cell_type": "code",
   "execution_count": 6,
   "id": "dd6878f0-d7de-4cb5-a0be-ee2d21e259b2",
   "metadata": {},
   "outputs": [],
   "source": [
    "#This code block saves results from our results data format, can put in a function\n",
    "def Save_Results(results, rp_type, verbose=False, dataset=\"MNIST\"):\n",
    "    if verbose is True:\n",
    "        for k in results.keys():\n",
    "            print(f\"Projected:{k}: train accuracy:{max(results[k][0])}, test accuracy:{max(results[k][1])}\")\n",
    "\n",
    "    file = open(f\"Results/{dataset}_RP_{rp_type}.txt\",\"w\")\n",
    "    file.write(json.dumps(results))\n",
    "    file.close()"
   ]
  },
  {
   "cell_type": "markdown",
   "id": "72e21f5d-7df5-4ef0-b140-9393cc520e8b",
   "metadata": {},
   "source": [
    "**Loading**<br/>We will load the results from files and in that case we would not retrain"
   ]
  },
  {
   "cell_type": "code",
   "execution_count": 7,
   "id": "b98e4534-4325-4223-8eba-b1068b6f683c",
   "metadata": {},
   "outputs": [],
   "source": [
    "projections = [\"Gaussian\",\"Achlioptas\", \"Li\", \"CountSketch\", \"SRHT\"] #TODO: add SRHT, needs to add zero paddings to dataset\n",
    "results = {}\n",
    "for proj in projections:\n",
    "    if not os.path.isfile(f\"Results/MNIST_RP_{proj}.txt\"):\n",
    "        continue\n",
    "    file = open(f\"Results/MNIST_RP_{proj}.txt\",\"r+\")\n",
    "    results[proj] = json.loads(file.read())\n",
    "    file.close()"
   ]
  },
  {
   "cell_type": "markdown",
   "id": "b170e55e-7de9-42e7-be1a-145928611838",
   "metadata": {},
   "source": [
    "In any other case we retrain"
   ]
  },
  {
   "cell_type": "code",
   "execution_count": 8,
   "id": "f82cf544",
   "metadata": {},
   "outputs": [],
   "source": [
    "krange = torch.logspace(1,9,9,base=2) #we test k's from 1 to 784 with multiplicative steps of 2\n",
    "padding = 0\n",
    "for proj in projections:\n",
    "    if proj in results.keys(): #We would not retrain any model alreay trained (if krange list changed we would want to retrain)\n",
    "        continue\n",
    "    results[proj] = {}\n",
    "    print(f\"training for {proj}\")\n",
    "    if proj == \"SRHT\":\n",
    "        padding = 1024-784 #TODO: make this line adaptive for input size\n",
    "    for k in list(krange)[::1]:\n",
    "        mnist_model = FCModel(in_size=784, out_classes=10, activation_type=\"relu\", hidden_dims=[int(k/2)], rp=int(k), rp_type=proj, padding=padding).to(device)\n",
    "        print(f\"projected dimension:{int(k)}\")\n",
    "        #print(f\"Model Architecture:{mnist_model}\")\n",
    "        lr = 1e-3\n",
    "        optimizer = torch.optim.Adam(mnist_model.parameters(), lr=lr)\n",
    "        loss_fn = nn.CrossEntropyLoss().to(device)\n",
    "\n",
    "        res = train_and_eval(mnist_model, mdl_train, mdl_test, optimizer, loss_fn, verbose=False)\n",
    "        results[proj][str(int(k))] = res"
   ]
  },
  {
   "cell_type": "markdown",
   "id": "085ce2af-bae9-4d23-ac81-ebb528d96e4f",
   "metadata": {},
   "source": [
    "**We will save the results to a txt file**"
   ]
  },
  {
   "cell_type": "code",
   "execution_count": 9,
   "id": "f6db3c64-3f18-4c78-a665-a59c0fc68672",
   "metadata": {},
   "outputs": [
    {
     "name": "stdout",
     "output_type": "stream",
     "text": [
      "Gaussian\n",
      "Achlioptas\n",
      "Li\n",
      "CountSketch\n",
      "SRHT\n"
     ]
    }
   ],
   "source": [
    "for proj in projections:\n",
    "    print(proj)\n",
    "    Save_Results(results[proj], proj)"
   ]
  },
  {
   "cell_type": "markdown",
   "id": "8438d7c7",
   "metadata": {},
   "source": [
    "## Graphs\n",
    "Showing the results for different projection dimensions"
   ]
  },
  {
   "cell_type": "markdown",
   "id": "7bace09a-981a-49c1-97a3-8e24630c4df6",
   "metadata": {},
   "source": [
    "For each Random Projection, we will display the best result in each measured parameter (i.e train and test loss and accuracy)"
   ]
  },
  {
   "cell_type": "code",
   "execution_count": 10,
   "id": "e40b7ef7-32e6-4fe9-b0e1-9eaa9f614bed",
   "metadata": {},
   "outputs": [],
   "source": [
    "final = {}\n",
    "for proj in results.keys():\n",
    "    final[proj] = {}\n",
    "    for k in results[proj].keys():\n",
    "        for i in range(4): # 4 different measurements of accuracy/loss\n",
    "            temp = max(results[proj][k][i][:2]) if i <= 1 else min(results[proj][k][i][:2])\n",
    "            if i in final[proj].keys():\n",
    "                final[proj][i].append(temp)\n",
    "            else:\n",
    "                final[proj][i] = [temp]\n",
    "            \n",
    "krange = torch.logspace(1,9,9,base=2) #we test k's from 1 to 784 with multiplicative steps of 2"
   ]
  },
  {
   "cell_type": "code",
   "execution_count": 11,
   "id": "f8d44619-b842-43be-af11-a2fa76bfc4c0",
   "metadata": {},
   "outputs": [],
   "source": [
    "def plot_results(results, arr, label=\"k\", xscale=\"linear\", xbase=2.0): #results- list of results from different models, each result is a list\n",
    "    colors = [\"red\",\"blue\",\"green\",\"black\",\"yellow\"]\n",
    "    fig,_ = plt.subplots(nrows=2,ncols=2,sharex=True, figsize = (18,12))\n",
    "    k = [int(i) for i in arr]\n",
    "    for i, plot_type in enumerate(('train_acc', 'train_loss', 'valid_acc', 'valid_loss')):\n",
    "        ax = fig.axes[i]\n",
    "        if xscale == \"log\":\n",
    "            ax.set_xscale(xscale, base=xbase)\n",
    "        ax.set_yscale(\"linear\")\n",
    "        models_res = results[plot_type]\n",
    "        idx = 0\n",
    "        for model in models_res.keys():\n",
    "            ax.plot(np.array(k), models_res[model], label=model, color=colors[idx])\n",
    "            idx += 1\n",
    "        ax.set_title(plot_type)\n",
    "        ax.set_xlabel(label)\n",
    "        ax.legend()\n",
    "    return fig"
   ]
  },
  {
   "cell_type": "code",
   "execution_count": 12,
   "id": "a4540dfe-2fc8-4a4d-988e-692202c7cc7a",
   "metadata": {},
   "outputs": [
    {
     "data": {
      "text/plain": [
       "20"
      ]
     },
     "execution_count": 12,
     "metadata": {},
     "output_type": "execute_result"
    }
   ],
   "source": [
    "len(results[\"Li\"][\"32\"][3])"
   ]
  },
  {
   "cell_type": "code",
   "execution_count": 13,
   "id": "f643a0f8-444a-4858-a97c-5cd24b43000d",
   "metadata": {},
   "outputs": [
    {
     "data": {
      "image/png": "[encoded data removed]",
      "text/plain": [
       "<Figure size 1296x864 with 4 Axes>"
      ]
     },
     "metadata": {
      "needs_background": "light"
     },
     "output_type": "display_data"
    }
   ],
   "source": [
    "results_m = {'train_acc':None,'valid_acc':None,'train_loss':None,'valid_loss':None}\n",
    "results_m['train_acc'] = {'Gaussian':final[\"Gaussian\"][0],'Achlioptas':final[\"Achlioptas\"][0],'Li':final[\"Li\"][0], \"Count-Sketch\": final[\"CountSketch\"][0], \"SRHT\": final[\"SRHT\"][0]}\n",
    "results_m['valid_acc'] = {'Gaussian':final[\"Gaussian\"][1],'Achlioptas':final[\"Achlioptas\"][1],'Li':final[\"Li\"][1], \"Count-Sketch\": final[\"CountSketch\"][1], \"SRHT\": final[\"SRHT\"][1]}\n",
    "results_m['train_loss'] = {'Gaussian':final[\"Gaussian\"][2],'Achlioptas':final[\"Achlioptas\"][2],'Li':final[\"Li\"][2], \"Count-Sketch\": final[\"CountSketch\"][2], \"SRHT\": final[\"SRHT\"][2]}\n",
    "results_m['valid_loss'] = {'Gaussian':final[\"Gaussian\"][3],'Achlioptas':final[\"Achlioptas\"][3],'Li':final[\"Li\"][3], \"Count-Sketch\": final[\"CountSketch\"][3], \"SRHT\": final[\"SRHT\"][3]}\n",
    "\n",
    "plot_results(results_m, krange, xscale=\"log\", xbase=2.0);"
   ]
  },
  {
   "cell_type": "markdown",
   "id": "9520d45b-2118-47eb-86c7-7086005196e2",
   "metadata": {},
   "source": [
    "**We will now print the convergance graphs of the model for different projection dimensions:**"
   ]
  },
  {
   "cell_type": "code",
   "execution_count": 14,
   "id": "5d799a21-d89d-48c6-a060-252b81efbe79",
   "metadata": {},
   "outputs": [
    {
     "data": {
      "text/plain": [
       "'for k in [32,64,128,256,512]:\\n    results_m = {\\'train_acc\\':None,\\'valid_acc\\':None,\\'train_loss\\':None,\\'valid_loss\\':None} #TODO: add SRHT\\n    results_m[\\'train_acc\\'] = {\\'Gaussian\\':results[\"Gaussian\"][str(k)][0],\\'Achlioptas\\':results[\"Achlioptas\"][str(k)][0],\\'Li\\':results[\"Li\"][str(k)][0], \"Count-Sketch\": results[\"CountSketch\"][str(k)][0], \"SRHT\":results[\"SRHT\"][str(k)][0]}\\n    results_m[\\'valid_acc\\'] = {\\'Gaussian\\':results[\"Gaussian\"][str(k)][1],\\'Achlioptas\\':results[\"Achlioptas\"][str(k)][1],\\'Li\\':results[\"Li\"][str(k)][1], \"Count-Sketch\": results[\"CountSketch\"][str(k)][1], \"SRHT\":results[\"SRHT\"][str(k)][1]}\\n    results_m[\\'train_loss\\'] = {\\'Gaussian\\':results[\"Gaussian\"][str(k)][2],\\'Achlioptas\\':results[\"Achlioptas\"][str(k)][2],\\'Li\\':results[\"Li\"][str(k)][2], \"Count-Sketch\": results[\"CountSketch\"][str(k)][2], \"SRHT\":results[\"SRHT\"][str(k)][2]}\\n    results_m[\\'valid_loss\\'] = {\\'Gaussian\\':results[\"Gaussian\"][str(k)][3],\\'Achlioptas\\':results[\"Achlioptas\"][str(k)][3],\\'Li\\':results[\"Li\"][str(k)][3], \"Count-Sketch\": results[\"CountSketch\"][str(k)][3], \"SRHT\":results[\"SRHT\"][str(k)][3]}\\n    plot_results(results_m, epochs, f\"epoch; k={k}\");\\n'"
      ]
     },
     "execution_count": 14,
     "metadata": {},
     "output_type": "execute_result"
    }
   ],
   "source": [
    "epochs = range(20)\n",
    "'''for k in [32,64,128,256,512]:\n",
    "    results_m = {'train_acc':None,'valid_acc':None,'train_loss':None,'valid_loss':None} #TODO: add SRHT\n",
    "    results_m['train_acc'] = {'Gaussian':results[\"Gaussian\"][str(k)][0],'Achlioptas':results[\"Achlioptas\"][str(k)][0],'Li':results[\"Li\"][str(k)][0], \"Count-Sketch\": results[\"CountSketch\"][str(k)][0], \"SRHT\":results[\"SRHT\"][str(k)][0]}\n",
    "    results_m['valid_acc'] = {'Gaussian':results[\"Gaussian\"][str(k)][1],'Achlioptas':results[\"Achlioptas\"][str(k)][1],'Li':results[\"Li\"][str(k)][1], \"Count-Sketch\": results[\"CountSketch\"][str(k)][1], \"SRHT\":results[\"SRHT\"][str(k)][1]}\n",
    "    results_m['train_loss'] = {'Gaussian':results[\"Gaussian\"][str(k)][2],'Achlioptas':results[\"Achlioptas\"][str(k)][2],'Li':results[\"Li\"][str(k)][2], \"Count-Sketch\": results[\"CountSketch\"][str(k)][2], \"SRHT\":results[\"SRHT\"][str(k)][2]}\n",
    "    results_m['valid_loss'] = {'Gaussian':results[\"Gaussian\"][str(k)][3],'Achlioptas':results[\"Achlioptas\"][str(k)][3],'Li':results[\"Li\"][str(k)][3], \"Count-Sketch\": results[\"CountSketch\"][str(k)][3], \"SRHT\":results[\"SRHT\"][str(k)][3]}\n",
    "    plot_results(results_m, epochs, f\"epoch; k={k}\");\n",
    "'''"
   ]
  },
  {
   "cell_type": "markdown",
   "id": "2b0a3086-4637-41bd-93af-830412c976d2",
   "metadata": {},
   "source": [
    "In the first graph (best accuracy to projected dimension) we can see that the difference in performance between the different methods is not major.<br/>\n",
    "In the next graphs we can see clearly that for MNIST dataset, Achlioptas Random Projection performs better for a large enough amount of epochs, for a smaller number of epochs, Li's method performs better on the validation set, for a really small number of epochs we can see that the Gaussian Random Projection performs better than Achlioptas as well, Count-Sketch shows the least accuracy of all for this dataset, possibly because of the small input size (that would be tested later on a larger dataset).\n",
    "A possible explanation of the results is that Li's Random Projection is similiar to Achlioptas but more sparse, this sparsity preserves less information but the information preserved is easier to learn from after very few epochs."
   ]
  },
  {
   "cell_type": "markdown",
   "id": "6d7b1b43-e411-4407-bd27-4c15b0b7cd22",
   "metadata": {},
   "source": [
    "## Loading and training on Genetic Dataset\n",
    "Now we will load and train our model on the genetic dataset"
   ]
  },
  {
   "cell_type": "code",
   "execution_count": 202,
   "id": "b1555f16-6b41-45c5-80b8-e3110586e07f",
   "metadata": {},
   "outputs": [],
   "source": [
    "import dataset\n",
    "\n",
    "genetic = dataset.gen_dataset()\n",
    "gtrain, gtest = genetic.split(0.5)\n",
    "gdl_train = torch.utils.data.DataLoader(gtrain, 32, shuffle=True)\n",
    "gdl_test = torch.utils.data.DataLoader(gtest, 32, shuffle=True)"
   ]
  },
  {
   "cell_type": "code",
   "execution_count": 203,
   "id": "6faab3c8-1563-4425-b817-1f1cbc2dd3e4",
   "metadata": {},
   "outputs": [
    {
     "data": {
      "text/plain": [
       "tensor(4)"
      ]
     },
     "execution_count": 203,
     "metadata": {},
     "output_type": "execute_result"
    }
   ],
   "source": [
    "##TODO:delete this cell\n",
    "max(genetic.data[1].reshape(1,-1)[0])"
   ]
  },
  {
   "cell_type": "code",
   "execution_count": 204,
   "id": "98530ba8-7675-4191-bda3-fa8399187cba",
   "metadata": {},
   "outputs": [
    {
     "data": {
      "text/plain": [
       "DecisionTreeClassifier(random_state=0)"
      ]
     },
     "execution_count": 204,
     "metadata": {},
     "output_type": "execute_result"
    }
   ],
   "source": [
    "#Test dataset by tree classifier as sanity check\n",
    "from sklearn.tree import DecisionTreeClassifier\n",
    "clf = DecisionTreeClassifier(random_state=0)\n",
    "clf.fit(gtrain.data[0], gtrain.data[1].reshape(-1,1))    "
   ]
  },
  {
   "cell_type": "code",
   "execution_count": 205,
   "id": "bd4ee5e5-206c-4e15-850b-01ade5c213fc",
   "metadata": {},
   "outputs": [
    {
     "name": "stdout",
     "output_type": "stream",
     "text": [
      "correct:379 total:400 accuracy:0.9475\n"
     ]
    }
   ],
   "source": [
    "yres = clf.predict(gtest.data[0])\n",
    "s = [1 if yres[i] == gtest.data[1].reshape(1,-1)[0][i] else 0 for i in range(len(yres))]\n",
    "print(f\"correct:{s.count(1)} total:{len(s)} accuracy:{s.count(1)/len(s)}\")    "
   ]
  },
  {
   "cell_type": "code",
   "execution_count": 206,
   "id": "8ecab168-590b-4a6c-974b-53a3df0c380d",
   "metadata": {},
   "outputs": [],
   "source": [
    "#genetic.data[1].shape"
   ]
  },
  {
   "cell_type": "code",
   "execution_count": 207,
   "id": "dd7f6c02-8616-40e7-ad24-20aaab2f5efa",
   "metadata": {},
   "outputs": [],
   "source": [
    "genetic.data = genetic.data[0].reshape(801,1,20531), genetic.data[1].reshape(801,1,1)"
   ]
  },
  {
   "cell_type": "markdown",
   "id": "63555d77-1812-435b-a9a2-bca27c743554",
   "metadata": {},
   "source": [
    "Now we will train and evaluate a DNN model for this dataset"
   ]
  },
  {
   "cell_type": "code",
   "execution_count": 212,
   "id": "949811bb-385e-4ca1-892b-fbd26e36a7ea",
   "metadata": {},
   "outputs": [
    {
     "name": "stdout",
     "output_type": "stream",
     "text": [
      "Epoch #0,train loss=1.478,train accuracy=0.417, validation accuracy=0.385, elapsed=0.2 sec\n",
      "*** Saved checkpoint Models/FC_RNN.pt at epoch 1\n",
      "Epoch #1,train loss=1.305,train accuracy=0.385, validation accuracy=0.407, elapsed=0.3 sec\n",
      "*** Saved checkpoint Models/FC_RNN.pt at epoch 2\n",
      "Epoch #2,train loss=1.202,train accuracy=0.495, validation accuracy=0.547, elapsed=0.3 sec\n",
      "*** Saved checkpoint Models/FC_RNN.pt at epoch 3\n",
      "Epoch #3,train loss=1.116,train accuracy=0.562, validation accuracy=0.613, elapsed=0.3 sec\n",
      "*** Saved checkpoint Models/FC_RNN.pt at epoch 4\n",
      "Epoch #4,train loss=1.007,train accuracy=0.748, validation accuracy=0.720, elapsed=0.3 sec\n",
      "*** Saved checkpoint Models/FC_RNN.pt at epoch 5\n",
      "Epoch #5,train loss=0.910,train accuracy=0.818, validation accuracy=0.840, elapsed=0.3 sec\n",
      "*** Saved checkpoint Models/FC_RNN.pt at epoch 6\n",
      "Epoch #6,train loss=0.818,train accuracy=0.887, validation accuracy=0.907, elapsed=0.3 sec\n",
      "*** Saved checkpoint Models/FC_RNN.pt at epoch 7\n",
      "Epoch #7,train loss=0.726,train accuracy=0.948, validation accuracy=0.932, elapsed=0.3 sec\n",
      "*** Saved checkpoint Models/FC_RNN.pt at epoch 8\n",
      "Epoch #8,train loss=0.645,train accuracy=0.973, validation accuracy=0.973, elapsed=0.2 sec\n",
      "*** Saved checkpoint Models/FC_RNN.pt at epoch 9\n",
      "Epoch #9,train loss=0.578,train accuracy=0.975, validation accuracy=0.983, elapsed=0.3 sec\n",
      "*** Saved checkpoint Models/FC_RNN.pt at epoch 10\n",
      "final test accuracy:0.9825\n"
     ]
    }
   ],
   "source": [
    "### in_size = 20531\n",
    "out_classes = 5 #maximal value was 4\n",
    "lr = 1e-4\n",
    "k = 400\n",
    "model = FCModel(in_size=in_size, out_classes=out_classes, activation_type=\"tanh\", hidden_dims=[int(k/2),int(k/4)], rp=k, softmax=False)\n",
    "optimizer = torch.optim.Adam(model.parameters(), lr=lr)\n",
    "loss_fn = nn.CrossEntropyLoss().to(device)\n",
    "\n",
    "res = train_and_eval(model, gdl_train, gdl_test, optimizer, loss_fn, verbose=True, epochs=10)\n",
    "print(f\"final test accuracy:{res[1][-1]}\")"
   ]
  },
  {
   "cell_type": "code",
   "execution_count": 214,
   "id": "00f460d4-94d7-4724-9003-ebac58ecdce1",
   "metadata": {},
   "outputs": [
    {
     "name": "stdout",
     "output_type": "stream",
     "text": [
      "Epoch #0,train loss=1.160,train accuracy=0.593, validation accuracy=0.650, elapsed=1.0 sec\n",
      "*** Saved checkpoint Models/FC_RNN.pt at epoch 1\n",
      "Epoch #1,train loss=0.614,train accuracy=0.890, validation accuracy=0.993, elapsed=1.1 sec\n",
      "*** Saved checkpoint Models/FC_RNN.pt at epoch 2\n",
      "Epoch #2,train loss=0.287,train accuracy=0.995, validation accuracy=0.990, elapsed=1.0 sec\n",
      "*** Saved checkpoint Models/FC_RNN.pt at epoch 3\n",
      "Epoch #3,train loss=0.137,train accuracy=0.998, validation accuracy=0.993, elapsed=1.0 sec\n",
      "*** Saved checkpoint Models/FC_RNN.pt at epoch 4\n",
      "Epoch #4,train loss=0.081,train accuracy=0.998, validation accuracy=0.998, elapsed=1.1 sec\n",
      "*** Saved checkpoint Models/FC_RNN.pt at epoch 5\n",
      "Epoch #5,train loss=0.057,train accuracy=1.000, validation accuracy=0.995, elapsed=1.2 sec\n",
      "*** Saved checkpoint Models/FC_RNN.pt at epoch 6\n",
      "Epoch #6,train loss=0.038,train accuracy=0.998, validation accuracy=0.998, elapsed=1.3 sec\n",
      "*** Saved checkpoint Models/FC_RNN.pt at epoch 7\n",
      "Epoch #7,train loss=0.028,train accuracy=0.998, validation accuracy=0.998, elapsed=1.2 sec\n",
      "*** Saved checkpoint Models/FC_RNN.pt at epoch 8\n",
      "Epoch #8,train loss=0.021,train accuracy=1.000, validation accuracy=0.998, elapsed=1.3 sec\n",
      "*** Saved checkpoint Models/FC_RNN.pt at epoch 9\n",
      "Epoch #9,train loss=0.016,train accuracy=1.000, validation accuracy=0.998, elapsed=1.3 sec\n",
      "*** Saved checkpoint Models/FC_RNN.pt at epoch 10\n",
      "final test accuracy:0.9975\n"
     ]
    }
   ],
   "source": [
    "k = 2000\n",
    "model = FCModel(in_size=in_size, out_classes=out_classes, activation_type=\"tanh\", hidden_dims=[int(k/2),int(k/4)], rp=k, softmax=False)\n",
    "optimizer = torch.optim.Adam(model.parameters(), lr=lr)\n",
    "loss_fn = nn.CrossEntropyLoss().to(device)\n",
    "\n",
    "res = train_and_eval(model, gdl_train, gdl_test, optimizer, loss_fn, verbose=True, epochs=10)\n",
    "print(f\"final test accuracy:{res[1][-1]}\")"
   ]
  },
  {
   "cell_type": "code",
   "execution_count": 213,
   "id": "9e0abc6f-6191-4d43-8b65-1c3261c0a52d",
   "metadata": {},
   "outputs": [
    {
     "name": "stdout",
     "output_type": "stream",
     "text": [
      "Without RP the model has:4127005 trainable parameters, with RP to dimension 400(!) the model has 101205 trainable parameters\n"
     ]
    }
   ],
   "source": [
    "params1 = count_parameters(FCModel(in_size=in_size, out_classes=out_classes, activation_type=\"tanh\", hidden_dims=[200,100], rp=400, softmax=False))\n",
    "params2 = count_parameters(FCModel(in_size=in_size, out_classes=out_classes, activation_type=\"tanh\", hidden_dims=[200,100], rp=-1, softmax=False))\n",
    "print(f\"Without RP the model has:{params2} trainable parameters, with RP to dimension 400(!) the model has {params1} trainable parameters\")"
   ]
  },
  {
   "cell_type": "markdown",
   "id": "14555fd0-f12f-42a0-b9ed-66ab780b71ab",
   "metadata": {},
   "source": [
    "Now we can perform the same experiments as before on our dataset"
   ]
  },
  {
   "cell_type": "code",
   "execution_count": null,
   "id": "86441a54-59fa-4837-aef1-11b5bf4314bb",
   "metadata": {},
   "outputs": [],
   "source": []
  },
  {
   "cell_type": "markdown",
   "id": "d2f9d278-c319-409b-8ce2-dd7c2cf6a40e",
   "metadata": {},
   "source": [
    "## Loading and training on the Hydraulic dataset\n",
    "Next, we would load the given hydraulic dataset, it has 2205 examples with 43680 attributes each, it fits for a 5 different classification problems and we would train it on classification problems.<br/>\n",
    "We will split the dataset to training and test sets where training set and test set are roughly equal. **Note: this ratio could change by changing split function parameters**"
   ]
  },
  {
   "cell_type": "code",
   "execution_count": 14,
   "id": "f5ada7b3-871d-4582-8a9d-768dcaf2df32",
   "metadata": {},
   "outputs": [
    {
     "name": "stdout",
     "output_type": "stream",
     "text": [
      "loading file: CE.txt\n",
      "loading file: CP.txt\n",
      "loading file: EPS1.txt\n",
      "loading file: FS1.txt\n",
      "loading file: FS2.txt\n",
      "loading file: PS1.txt\n",
      "loading file: PS2.txt\n",
      "loading file: PS3.txt\n",
      "loading file: PS4.txt\n",
      "loading file: PS5.txt\n",
      "loading file: PS6.txt\n",
      "loading file: SE.txt\n",
      "loading file: TS1.txt\n",
      "loading file: TS2.txt\n",
      "loading file: TS3.txt\n",
      "loading file: TS4.txt\n",
      "loading file: VS1.txt\n"
     ]
    },
    {
     "name": "stderr",
     "output_type": "stream",
     "text": [
      "/home/shai.kimhi/deepAccel/rp-nn/dataset.py:50: UserWarning: To copy construct from a tensor, it is recommended to use sourceTensor.clone().detach() or sourceTensor.clone().detach().requires_grad_(True), rather than torch.tensor(sourceTensor).\n",
      "  self.data = self.data[0], torch.tensor(self.data[1], dtype=data_type)\n"
     ]
    }
   ],
   "source": [
    "Hydraulic = dataset.dataset(classification=1)#files_to_ignore=[\"dataset.py\", \"description.txt\",\"documentation.txt\", \"__pycache__\",\"PS1.txt\",\"PS2.txt\",\"PS3.txt\",\"PS4.txt\",\"PS5.txt\",\"PS6.txt\",\"TS1.txt\",\"TS2.txt\",\"EPS1.txt\"])\n",
    "Hydraulic.fit_classification() #for classification we would use integer class labels\n",
    "Hydraulic.to_type(torch.int64)\n",
    "htrain, htest = Hydraulic.split(0.6)\n",
    "hdl_train = torch.utils.data.DataLoader(htrain, 4, shuffle=True)\n",
    "hdl_test = torch.utils.data.DataLoader(htest, 4, shuffle=True)"
   ]
  },
  {
   "cell_type": "code",
   "execution_count": 25,
   "id": "a16ea84b-8bc2-49e4-a69a-d5a814a72f40",
   "metadata": {},
   "outputs": [
    {
     "data": {
      "text/plain": [
       "tensor([0, 3, 1, 0])"
      ]
     },
     "execution_count": 25,
     "metadata": {},
     "output_type": "execute_result"
    }
   ],
   "source": [
    "x0,y0 = next(iter(hdl_test))\n",
    "y0"
   ]
  },
  {
   "cell_type": "code",
   "execution_count": 16,
   "id": "dfc3392b-3176-4fc4-9e1f-a0f793c21a42",
   "metadata": {},
   "outputs": [
    {
     "data": {
      "text/plain": [
       "[tensor(0), tensor(1), tensor(2), tensor(3)]"
      ]
     },
     "execution_count": 16,
     "metadata": {},
     "output_type": "execute_result"
    }
   ],
   "source": [
    "#check num of classes for classification problem\n",
    "values = []\n",
    "for i in range(2205):\n",
    "    if Hydraulic[i][1] not in values:\n",
    "        values.append(Hydraulic[i][1])\n",
    "values"
   ]
  },
  {
   "cell_type": "markdown",
   "id": "a58ee8f0-0e6b-447c-8883-41716965744d",
   "metadata": {},
   "source": [
    "Now we will repeat the training and evaluations that we have done before"
   ]
  },
  {
   "cell_type": "code",
   "execution_count": 23,
   "id": "8f8252c3-21f2-4be6-9f00-8a1b3ae90d4a",
   "metadata": {},
   "outputs": [
    {
     "name": "stdout",
     "output_type": "stream",
     "text": [
      "training for Gaussian\n",
      "projected dimension:4096\n",
      "Epoch #0,train loss=1.570,train accuracy=0.173, validation accuracy=0.160, elapsed=1.8 sec\n",
      "*** Saved checkpoint Models/FC_RNN.pt at epoch 1\n",
      "Epoch #1,train loss=1.577,train accuracy=0.167, validation accuracy=0.160, elapsed=1.8 sec\n",
      "*** Saved checkpoint Models/FC_RNN.pt at epoch 2\n",
      "Epoch #2,train loss=1.576,train accuracy=0.167, validation accuracy=0.160, elapsed=1.9 sec\n",
      "*** Saved checkpoint Models/FC_RNN.pt at epoch 3\n",
      "Epoch #3,train loss=1.577,train accuracy=0.167, validation accuracy=0.160, elapsed=1.9 sec\n",
      "*** Saved checkpoint Models/FC_RNN.pt at epoch 4\n",
      "Epoch #4,train loss=1.577,train accuracy=0.167, validation accuracy=0.160, elapsed=1.8 sec\n",
      "*** Saved checkpoint Models/FC_RNN.pt at epoch 5\n",
      "Epoch #5,train loss=1.577,train accuracy=0.167, validation accuracy=0.160, elapsed=1.8 sec\n",
      "*** Saved checkpoint Models/FC_RNN.pt at epoch 6\n",
      "Epoch #6,train loss=1.577,train accuracy=0.167, validation accuracy=0.160, elapsed=1.8 sec\n",
      "*** Saved checkpoint Models/FC_RNN.pt at epoch 7\n"
     ]
    },
    {
     "ename": "KeyboardInterrupt",
     "evalue": "",
     "output_type": "error",
     "traceback": [
      "\u001b[0;31m---------------------------------------------------------------------------\u001b[0m",
      "\u001b[0;31mKeyboardInterrupt\u001b[0m                         Traceback (most recent call last)",
      "\u001b[0;32m<ipython-input-23-9674c0cb11db>\u001b[0m in \u001b[0;36m<module>\u001b[0;34m\u001b[0m\n\u001b[1;32m     31\u001b[0m         \u001b[0mloss_fn\u001b[0m \u001b[0;34m=\u001b[0m \u001b[0mnn\u001b[0m\u001b[0;34m.\u001b[0m\u001b[0mCrossEntropyLoss\u001b[0m\u001b[0;34m(\u001b[0m\u001b[0;34m)\u001b[0m\u001b[0;34m.\u001b[0m\u001b[0mto\u001b[0m\u001b[0;34m(\u001b[0m\u001b[0mdevice\u001b[0m\u001b[0;34m)\u001b[0m\u001b[0;34m\u001b[0m\u001b[0;34m\u001b[0m\u001b[0m\n\u001b[1;32m     32\u001b[0m \u001b[0;34m\u001b[0m\u001b[0m\n\u001b[0;32m---> 33\u001b[0;31m         \u001b[0mres\u001b[0m \u001b[0;34m=\u001b[0m \u001b[0mtrain_and_eval\u001b[0m\u001b[0;34m(\u001b[0m\u001b[0mmnist_model\u001b[0m\u001b[0;34m,\u001b[0m \u001b[0mhdl_train\u001b[0m\u001b[0;34m,\u001b[0m \u001b[0mhdl_test\u001b[0m\u001b[0;34m,\u001b[0m \u001b[0moptimizer\u001b[0m\u001b[0;34m,\u001b[0m \u001b[0mloss_fn\u001b[0m\u001b[0;34m,\u001b[0m \u001b[0mverbose\u001b[0m\u001b[0;34m=\u001b[0m\u001b[0;32mTrue\u001b[0m\u001b[0;34m)\u001b[0m\u001b[0;34m\u001b[0m\u001b[0;34m\u001b[0m\u001b[0m\n\u001b[0m\u001b[1;32m     34\u001b[0m         \u001b[0;31m#print(f'accuracy:{res[0], res[1]}')\u001b[0m\u001b[0;34m\u001b[0m\u001b[0;34m\u001b[0m\u001b[0;34m\u001b[0m\u001b[0m\n\u001b[1;32m     35\u001b[0m         \u001b[0mresults\u001b[0m\u001b[0;34m[\u001b[0m\u001b[0mproj\u001b[0m\u001b[0;34m]\u001b[0m\u001b[0;34m[\u001b[0m\u001b[0mstr\u001b[0m\u001b[0;34m(\u001b[0m\u001b[0mint\u001b[0m\u001b[0;34m(\u001b[0m\u001b[0mk\u001b[0m\u001b[0;34m)\u001b[0m\u001b[0;34m)\u001b[0m\u001b[0;34m]\u001b[0m \u001b[0;34m=\u001b[0m \u001b[0mres\u001b[0m\u001b[0;34m\u001b[0m\u001b[0;34m\u001b[0m\u001b[0m\n",
      "\u001b[0;32m~/deepAccel/rp-nn/Trainer.py\u001b[0m in \u001b[0;36mtrain_and_eval\u001b[0;34m(model, train_iter, valid_iter, optimizer, loss_fn, epochs, dir, name, data_name, verbose)\u001b[0m\n\u001b[1;32m     52\u001b[0m         \u001b[0;31m#evaluate over validation\u001b[0m\u001b[0;34m\u001b[0m\u001b[0;34m\u001b[0m\u001b[0;34m\u001b[0m\u001b[0m\n\u001b[1;32m     53\u001b[0m         \u001b[0;32mwith\u001b[0m \u001b[0mtorch\u001b[0m\u001b[0;34m.\u001b[0m\u001b[0mno_grad\u001b[0m\u001b[0;34m(\u001b[0m\u001b[0;34m)\u001b[0m\u001b[0;34m:\u001b[0m\u001b[0;34m\u001b[0m\u001b[0;34m\u001b[0m\u001b[0m\n\u001b[0;32m---> 54\u001b[0;31m             \u001b[0;32mfor\u001b[0m \u001b[0mval_batch\u001b[0m \u001b[0;32min\u001b[0m \u001b[0mvalid_iter\u001b[0m\u001b[0;34m:\u001b[0m\u001b[0;34m\u001b[0m\u001b[0;34m\u001b[0m\u001b[0m\n\u001b[0m\u001b[1;32m     55\u001b[0m                 \u001b[0mX\u001b[0m\u001b[0;34m,\u001b[0m \u001b[0my\u001b[0m \u001b[0;34m=\u001b[0m \u001b[0mval_batch\u001b[0m\u001b[0;34m\u001b[0m\u001b[0;34m\u001b[0m\u001b[0m\n\u001b[1;32m     56\u001b[0m                 \u001b[0mX\u001b[0m\u001b[0;34m,\u001b[0m \u001b[0my\u001b[0m \u001b[0;34m=\u001b[0m \u001b[0mX\u001b[0m\u001b[0;34m.\u001b[0m\u001b[0mto\u001b[0m\u001b[0;34m(\u001b[0m\u001b[0mdevice\u001b[0m\u001b[0;34m)\u001b[0m\u001b[0;34m,\u001b[0m \u001b[0my\u001b[0m\u001b[0;34m.\u001b[0m\u001b[0mto\u001b[0m\u001b[0;34m(\u001b[0m\u001b[0mdevice\u001b[0m\u001b[0;34m)\u001b[0m\u001b[0;34m\u001b[0m\u001b[0;34m\u001b[0m\u001b[0m\n",
      "\u001b[0;32m~/miniconda3/envs/cs236781-hw/lib/python3.8/site-packages/torch/utils/data/dataloader.py\u001b[0m in \u001b[0;36m__next__\u001b[0;34m(self)\u001b[0m\n\u001b[1;32m    519\u001b[0m             \u001b[0;32mif\u001b[0m \u001b[0mself\u001b[0m\u001b[0;34m.\u001b[0m\u001b[0m_sampler_iter\u001b[0m \u001b[0;32mis\u001b[0m \u001b[0;32mNone\u001b[0m\u001b[0;34m:\u001b[0m\u001b[0;34m\u001b[0m\u001b[0;34m\u001b[0m\u001b[0m\n\u001b[1;32m    520\u001b[0m                 \u001b[0mself\u001b[0m\u001b[0;34m.\u001b[0m\u001b[0m_reset\u001b[0m\u001b[0;34m(\u001b[0m\u001b[0;34m)\u001b[0m\u001b[0;34m\u001b[0m\u001b[0;34m\u001b[0m\u001b[0m\n\u001b[0;32m--> 521\u001b[0;31m             \u001b[0mdata\u001b[0m \u001b[0;34m=\u001b[0m \u001b[0mself\u001b[0m\u001b[0;34m.\u001b[0m\u001b[0m_next_data\u001b[0m\u001b[0;34m(\u001b[0m\u001b[0;34m)\u001b[0m\u001b[0;34m\u001b[0m\u001b[0;34m\u001b[0m\u001b[0m\n\u001b[0m\u001b[1;32m    522\u001b[0m             \u001b[0mself\u001b[0m\u001b[0;34m.\u001b[0m\u001b[0m_num_yielded\u001b[0m \u001b[0;34m+=\u001b[0m \u001b[0;36m1\u001b[0m\u001b[0;34m\u001b[0m\u001b[0;34m\u001b[0m\u001b[0m\n\u001b[1;32m    523\u001b[0m             \u001b[0;32mif\u001b[0m \u001b[0mself\u001b[0m\u001b[0;34m.\u001b[0m\u001b[0m_dataset_kind\u001b[0m \u001b[0;34m==\u001b[0m \u001b[0m_DatasetKind\u001b[0m\u001b[0;34m.\u001b[0m\u001b[0mIterable\u001b[0m \u001b[0;32mand\u001b[0m\u001b[0;31m \u001b[0m\u001b[0;31m\\\u001b[0m\u001b[0;34m\u001b[0m\u001b[0;34m\u001b[0m\u001b[0m\n",
      "\u001b[0;32m~/miniconda3/envs/cs236781-hw/lib/python3.8/site-packages/torch/utils/data/dataloader.py\u001b[0m in \u001b[0;36m_next_data\u001b[0;34m(self)\u001b[0m\n\u001b[1;32m    559\u001b[0m     \u001b[0;32mdef\u001b[0m \u001b[0m_next_data\u001b[0m\u001b[0;34m(\u001b[0m\u001b[0mself\u001b[0m\u001b[0;34m)\u001b[0m\u001b[0;34m:\u001b[0m\u001b[0;34m\u001b[0m\u001b[0;34m\u001b[0m\u001b[0m\n\u001b[1;32m    560\u001b[0m         \u001b[0mindex\u001b[0m \u001b[0;34m=\u001b[0m \u001b[0mself\u001b[0m\u001b[0;34m.\u001b[0m\u001b[0m_next_index\u001b[0m\u001b[0;34m(\u001b[0m\u001b[0;34m)\u001b[0m  \u001b[0;31m# may raise StopIteration\u001b[0m\u001b[0;34m\u001b[0m\u001b[0;34m\u001b[0m\u001b[0m\n\u001b[0;32m--> 561\u001b[0;31m         \u001b[0mdata\u001b[0m \u001b[0;34m=\u001b[0m \u001b[0mself\u001b[0m\u001b[0;34m.\u001b[0m\u001b[0m_dataset_fetcher\u001b[0m\u001b[0;34m.\u001b[0m\u001b[0mfetch\u001b[0m\u001b[0;34m(\u001b[0m\u001b[0mindex\u001b[0m\u001b[0;34m)\u001b[0m  \u001b[0;31m# may raise StopIteration\u001b[0m\u001b[0;34m\u001b[0m\u001b[0;34m\u001b[0m\u001b[0m\n\u001b[0m\u001b[1;32m    562\u001b[0m         \u001b[0;32mif\u001b[0m \u001b[0mself\u001b[0m\u001b[0;34m.\u001b[0m\u001b[0m_pin_memory\u001b[0m\u001b[0;34m:\u001b[0m\u001b[0;34m\u001b[0m\u001b[0;34m\u001b[0m\u001b[0m\n\u001b[1;32m    563\u001b[0m             \u001b[0mdata\u001b[0m \u001b[0;34m=\u001b[0m \u001b[0m_utils\u001b[0m\u001b[0;34m.\u001b[0m\u001b[0mpin_memory\u001b[0m\u001b[0;34m.\u001b[0m\u001b[0mpin_memory\u001b[0m\u001b[0;34m(\u001b[0m\u001b[0mdata\u001b[0m\u001b[0;34m)\u001b[0m\u001b[0;34m\u001b[0m\u001b[0;34m\u001b[0m\u001b[0m\n",
      "\u001b[0;32m~/miniconda3/envs/cs236781-hw/lib/python3.8/site-packages/torch/utils/data/_utils/fetch.py\u001b[0m in \u001b[0;36mfetch\u001b[0;34m(self, possibly_batched_index)\u001b[0m\n\u001b[1;32m     45\u001b[0m         \u001b[0;32melse\u001b[0m\u001b[0;34m:\u001b[0m\u001b[0;34m\u001b[0m\u001b[0;34m\u001b[0m\u001b[0m\n\u001b[1;32m     46\u001b[0m             \u001b[0mdata\u001b[0m \u001b[0;34m=\u001b[0m \u001b[0mself\u001b[0m\u001b[0;34m.\u001b[0m\u001b[0mdataset\u001b[0m\u001b[0;34m[\u001b[0m\u001b[0mpossibly_batched_index\u001b[0m\u001b[0;34m]\u001b[0m\u001b[0;34m\u001b[0m\u001b[0;34m\u001b[0m\u001b[0m\n\u001b[0;32m---> 47\u001b[0;31m         \u001b[0;32mreturn\u001b[0m \u001b[0mself\u001b[0m\u001b[0;34m.\u001b[0m\u001b[0mcollate_fn\u001b[0m\u001b[0;34m(\u001b[0m\u001b[0mdata\u001b[0m\u001b[0;34m)\u001b[0m\u001b[0;34m\u001b[0m\u001b[0;34m\u001b[0m\u001b[0m\n\u001b[0m",
      "\u001b[0;32m~/miniconda3/envs/cs236781-hw/lib/python3.8/site-packages/torch/utils/data/_utils/collate.py\u001b[0m in \u001b[0;36mdefault_collate\u001b[0;34m(batch)\u001b[0m\n\u001b[1;32m     82\u001b[0m             \u001b[0;32mraise\u001b[0m \u001b[0mRuntimeError\u001b[0m\u001b[0;34m(\u001b[0m\u001b[0;34m'each element in list of batch should be of equal size'\u001b[0m\u001b[0;34m)\u001b[0m\u001b[0;34m\u001b[0m\u001b[0;34m\u001b[0m\u001b[0m\n\u001b[1;32m     83\u001b[0m         \u001b[0mtransposed\u001b[0m \u001b[0;34m=\u001b[0m \u001b[0mzip\u001b[0m\u001b[0;34m(\u001b[0m\u001b[0;34m*\u001b[0m\u001b[0mbatch\u001b[0m\u001b[0;34m)\u001b[0m\u001b[0;34m\u001b[0m\u001b[0;34m\u001b[0m\u001b[0m\n\u001b[0;32m---> 84\u001b[0;31m         \u001b[0;32mreturn\u001b[0m \u001b[0;34m[\u001b[0m\u001b[0mdefault_collate\u001b[0m\u001b[0;34m(\u001b[0m\u001b[0msamples\u001b[0m\u001b[0;34m)\u001b[0m \u001b[0;32mfor\u001b[0m \u001b[0msamples\u001b[0m \u001b[0;32min\u001b[0m \u001b[0mtransposed\u001b[0m\u001b[0;34m]\u001b[0m\u001b[0;34m\u001b[0m\u001b[0;34m\u001b[0m\u001b[0m\n\u001b[0m\u001b[1;32m     85\u001b[0m \u001b[0;34m\u001b[0m\u001b[0m\n\u001b[1;32m     86\u001b[0m     \u001b[0;32mraise\u001b[0m \u001b[0mTypeError\u001b[0m\u001b[0;34m(\u001b[0m\u001b[0mdefault_collate_err_msg_format\u001b[0m\u001b[0;34m.\u001b[0m\u001b[0mformat\u001b[0m\u001b[0;34m(\u001b[0m\u001b[0melem_type\u001b[0m\u001b[0;34m)\u001b[0m\u001b[0;34m)\u001b[0m\u001b[0;34m\u001b[0m\u001b[0;34m\u001b[0m\u001b[0m\n",
      "\u001b[0;32m~/miniconda3/envs/cs236781-hw/lib/python3.8/site-packages/torch/utils/data/_utils/collate.py\u001b[0m in \u001b[0;36m<listcomp>\u001b[0;34m(.0)\u001b[0m\n\u001b[1;32m     82\u001b[0m             \u001b[0;32mraise\u001b[0m \u001b[0mRuntimeError\u001b[0m\u001b[0;34m(\u001b[0m\u001b[0;34m'each element in list of batch should be of equal size'\u001b[0m\u001b[0;34m)\u001b[0m\u001b[0;34m\u001b[0m\u001b[0;34m\u001b[0m\u001b[0m\n\u001b[1;32m     83\u001b[0m         \u001b[0mtransposed\u001b[0m \u001b[0;34m=\u001b[0m \u001b[0mzip\u001b[0m\u001b[0;34m(\u001b[0m\u001b[0;34m*\u001b[0m\u001b[0mbatch\u001b[0m\u001b[0;34m)\u001b[0m\u001b[0;34m\u001b[0m\u001b[0;34m\u001b[0m\u001b[0m\n\u001b[0;32m---> 84\u001b[0;31m         \u001b[0;32mreturn\u001b[0m \u001b[0;34m[\u001b[0m\u001b[0mdefault_collate\u001b[0m\u001b[0;34m(\u001b[0m\u001b[0msamples\u001b[0m\u001b[0;34m)\u001b[0m \u001b[0;32mfor\u001b[0m \u001b[0msamples\u001b[0m \u001b[0;32min\u001b[0m \u001b[0mtransposed\u001b[0m\u001b[0;34m]\u001b[0m\u001b[0;34m\u001b[0m\u001b[0;34m\u001b[0m\u001b[0m\n\u001b[0m\u001b[1;32m     85\u001b[0m \u001b[0;34m\u001b[0m\u001b[0m\n\u001b[1;32m     86\u001b[0m     \u001b[0;32mraise\u001b[0m \u001b[0mTypeError\u001b[0m\u001b[0;34m(\u001b[0m\u001b[0mdefault_collate_err_msg_format\u001b[0m\u001b[0;34m.\u001b[0m\u001b[0mformat\u001b[0m\u001b[0;34m(\u001b[0m\u001b[0melem_type\u001b[0m\u001b[0;34m)\u001b[0m\u001b[0;34m)\u001b[0m\u001b[0;34m\u001b[0m\u001b[0;34m\u001b[0m\u001b[0m\n",
      "\u001b[0;32m~/miniconda3/envs/cs236781-hw/lib/python3.8/site-packages/torch/utils/data/_utils/collate.py\u001b[0m in \u001b[0;36mdefault_collate\u001b[0;34m(batch)\u001b[0m\n\u001b[1;32m     54\u001b[0m             \u001b[0mstorage\u001b[0m \u001b[0;34m=\u001b[0m \u001b[0melem\u001b[0m\u001b[0;34m.\u001b[0m\u001b[0mstorage\u001b[0m\u001b[0;34m(\u001b[0m\u001b[0;34m)\u001b[0m\u001b[0;34m.\u001b[0m\u001b[0m_new_shared\u001b[0m\u001b[0;34m(\u001b[0m\u001b[0mnumel\u001b[0m\u001b[0;34m)\u001b[0m\u001b[0;34m\u001b[0m\u001b[0;34m\u001b[0m\u001b[0m\n\u001b[1;32m     55\u001b[0m             \u001b[0mout\u001b[0m \u001b[0;34m=\u001b[0m \u001b[0melem\u001b[0m\u001b[0;34m.\u001b[0m\u001b[0mnew\u001b[0m\u001b[0;34m(\u001b[0m\u001b[0mstorage\u001b[0m\u001b[0;34m)\u001b[0m\u001b[0;34m\u001b[0m\u001b[0;34m\u001b[0m\u001b[0m\n\u001b[0;32m---> 56\u001b[0;31m         \u001b[0;32mreturn\u001b[0m \u001b[0mtorch\u001b[0m\u001b[0;34m.\u001b[0m\u001b[0mstack\u001b[0m\u001b[0;34m(\u001b[0m\u001b[0mbatch\u001b[0m\u001b[0;34m,\u001b[0m \u001b[0;36m0\u001b[0m\u001b[0;34m,\u001b[0m \u001b[0mout\u001b[0m\u001b[0;34m=\u001b[0m\u001b[0mout\u001b[0m\u001b[0;34m)\u001b[0m\u001b[0;34m\u001b[0m\u001b[0;34m\u001b[0m\u001b[0m\n\u001b[0m\u001b[1;32m     57\u001b[0m     \u001b[0;32melif\u001b[0m \u001b[0melem_type\u001b[0m\u001b[0;34m.\u001b[0m\u001b[0m__module__\u001b[0m \u001b[0;34m==\u001b[0m \u001b[0;34m'numpy'\u001b[0m \u001b[0;32mand\u001b[0m \u001b[0melem_type\u001b[0m\u001b[0;34m.\u001b[0m\u001b[0m__name__\u001b[0m \u001b[0;34m!=\u001b[0m \u001b[0;34m'str_'\u001b[0m\u001b[0;31m \u001b[0m\u001b[0;31m\\\u001b[0m\u001b[0;34m\u001b[0m\u001b[0;34m\u001b[0m\u001b[0m\n\u001b[1;32m     58\u001b[0m             \u001b[0;32mand\u001b[0m \u001b[0melem_type\u001b[0m\u001b[0;34m.\u001b[0m\u001b[0m__name__\u001b[0m \u001b[0;34m!=\u001b[0m \u001b[0;34m'string_'\u001b[0m\u001b[0;34m:\u001b[0m\u001b[0;34m\u001b[0m\u001b[0;34m\u001b[0m\u001b[0m\n",
      "\u001b[0;31mKeyboardInterrupt\u001b[0m: "
     ]
    }
   ],
   "source": [
    "##Training and evaluating the results as before\n",
    "projections = [\"Gaussian\",\"Achlioptas\", \"Li\", \"CountSketch\", \"SRHT\"] #TODO: add SRHT, needs to add zero paddings to dataset\n",
    "results = {}\n",
    "for proj in projections:\n",
    "    if not os.path.isfile(f\"Results/Hydraulic_RP_{proj}.txt\"):\n",
    "        continue\n",
    "    file = open(f\"Results/Hydraulic_RP_{proj}.txt\",\"r+\")\n",
    "    results[proj] = json.loads(file.read())\n",
    "    file.close()\n",
    "#Training RP types that were not trained before\n",
    "in_size = 43680\n",
    "num_classes = len(values)\n",
    "lr = 1e-4\n",
    "krange = list(torch.logspace(5,12,8,base=2))[::-1] #we test k's from 1 to 784 with multiplicative steps of 2\n",
    "padding = 0\n",
    "for proj in projections:\n",
    "    if proj in results.keys(): #We would not retrain any model alreay trained (if krange list changed we would want to retrain)\n",
    "        continue\n",
    "    results[proj] = {}\n",
    "    print(f\"training for {proj}\")\n",
    "    if proj == \"SRHT\":\n",
    "        padding = 2**16 - in_size #TODO: make this line adaptive in input_size\n",
    "    for k in list(krange)[::1]:\n",
    "        if device.type == 'cuda':\n",
    "            torch.cuda.empty_cache()\n",
    "        h_model = FCModel(in_size=in_size, out_classes=num_classes, activation_type=\"relu\", hidden_dims=[int(k/2)], rp=int(k), rp_type=proj, padding=padding, dropout=0.2).to(device)\n",
    "        print(f\"projected dimension:{int(k)}\")\n",
    "        #print(f\"Model Architecture:{mnist_model}\")\n",
    "        \n",
    "        optimizer = torch.optim.Adam(h_model.parameters(), lr=lr)\n",
    "        loss_fn = nn.CrossEntropyLoss().to(device)\n",
    "\n",
    "        res = train_and_eval(h_model, hdl_train, hdl_test, optimizer, loss_fn, verbose=True) #TODO: change verbose to false\n",
    "        #print(f'accuracy:{res[0], res[1]}')\n",
    "        results[proj][str(int(k))] = res\n",
    "        \n",
    "for proj in projections:\n",
    "    print(proj)\n",
    "    Save_Results(results[proj], proj, dataset=\"Hydraulic\")"
   ]
  },
  {
   "cell_type": "markdown",
   "id": "f33adc3e",
   "metadata": {},
   "source": [
    "Downloading CIFAR-10"
   ]
  },
  {
   "cell_type": "code",
   "execution_count": null,
   "id": "19f9458f",
   "metadata": {},
   "outputs": [],
   "source": [
    "#CIFAR-10 DOWNLOAD\n",
    "data_dir = os.path.expanduser('~/.pytorch-datasets')\n",
    "cifar10_train = torchvision.datasets.CIFAR10(root=data_dir, download=True, train=True, transform=tvtf.ToTensor())\n",
    "cifar10_test = torchvision.datasets.CIFAR10(root=data_dir, download=True, train=False, transform=tvtf.ToTensor())\n",
    "\n",
    "print(f'Train: {len(cifar10_train)} samples')\n",
    "print(f'Test: {len(cifar10_test)} samples')\n",
    "\n",
    "x0,_ = cifar10_train[0]\n",
    "in_size = x0.shape\n",
    "num_classes = 10\n",
    "print('CIFAR-10 input image size =', in_size)"
   ]
  },
  {
   "cell_type": "markdown",
   "id": "09f24b3f",
   "metadata": {},
   "source": [
    "## Download datasets (To be added)"
   ]
  },
  {
   "cell_type": "markdown",
   "id": "608718e7",
   "metadata": {},
   "source": [
    "<h4>Importing our experiments</h4>\n",
    "Now, we will load our experiments module for testing the different architectures. "
   ]
  },
  {
   "cell_type": "code",
   "execution_count": null,
   "id": "eb488b14",
   "metadata": {},
   "outputs": [],
   "source": []
  }
 ],
 "metadata": {
  "kernelspec": {
   "display_name": "Python 3",
   "language": "python",
   "name": "python3"
  },
  "language_info": {
   "codemirror_mode": {
    "name": "ipython",
    "version": 3
   },
   "file_extension": ".py",
   "mimetype": "text/x-python",
   "name": "python",
   "nbconvert_exporter": "python",
   "pygments_lexer": "ipython3",
   "version": "3.8.6"
  }
 },
 "nbformat": 4,
 "nbformat_minor": 5
}
